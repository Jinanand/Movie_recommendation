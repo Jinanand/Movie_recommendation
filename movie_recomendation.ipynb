{
 "cells": [
  {
   "cell_type": "code",
   "execution_count": 244,
   "id": "f2c1976d-e7fb-49c1-b48d-91b783944d85",
   "metadata": {},
   "outputs": [],
   "source": [
    "import numpy as np\n",
    "import pandas as pd\n",
    "import sklearn\n",
    "import matplotlib.pyplot as plt\n",
    "import seaborn as sns\n"
   ]
  },
  {
   "cell_type": "code",
   "execution_count": 245,
   "id": "14ace17e-0263-449f-b5af-8f8c52f4b1af",
   "metadata": {},
   "outputs": [],
   "source": [
    "ratings= pd.read_csv(r'C:\\Users\\jinan\\Downloads\\ratings.csv')\n",
    "movies=pd.read_csv(r'C:\\Users\\jinan\\Downloads\\movies.csv')"
   ]
  },
  {
   "cell_type": "code",
   "execution_count": 246,
   "id": "dbc646f4-05c9-4479-b3ac-3bceaad26624",
   "metadata": {},
   "outputs": [
    {
     "name": "stdout",
     "output_type": "stream",
     "text": [
      "        userId  movieId  rating   timestamp\n",
      "0          877     4155       5  1651201566\n",
      "1          305     7661       2  1639553712\n",
      "2          381     8423       2  1610704432\n",
      "3          208     6433       1  1650223767\n",
      "4           47     7752       4  1663998365\n",
      "...        ...      ...     ...         ...\n",
      "100831     452     8628       2  1618771985\n",
      "100832     848      242       2  1631550641\n",
      "100833     315     5106       4  1648071258\n",
      "100834      93     3339       2  1643105595\n",
      "100835     478     1971       5  1638595958\n",
      "\n",
      "[100836 rows x 4 columns]\n"
     ]
    }
   ],
   "source": [
    "print(ratings)\n"
   ]
  },
  {
   "cell_type": "code",
   "execution_count": 247,
   "id": "39e09e51-49eb-4d9a-98d4-a54b34743f60",
   "metadata": {},
   "outputs": [
    {
     "name": "stdout",
     "output_type": "stream",
     "text": [
      "   userId  movieId  rating           timestamp\n",
      "0     877     4155       5 2022-04-29 03:06:06\n",
      "1     305     7661       2 2021-12-15 07:35:12\n",
      "2     381     8423       2 2021-01-15 09:53:52\n",
      "3     208     6433       1 2022-04-17 19:29:27\n",
      "4      47     7752       4 2022-09-24 05:46:05\n"
     ]
    }
   ],
   "source": [
    "ratings['timestamp'] = pd.to_datetime(ratings['timestamp'], unit='s')\n",
    "print(ratings.head())"
   ]
  },
  {
   "cell_type": "code",
   "execution_count": 248,
   "id": "b79e02e7-012e-4ce8-9eac-19ee7407930d",
   "metadata": {},
   "outputs": [
    {
     "name": "stdout",
     "output_type": "stream",
     "text": [
      "      movieId                                      title  \\\n",
      "0           1                           Toy Story (1995)   \n",
      "1           2                             Jumanji (1995)   \n",
      "2           3                    Grumpier Old Men (1995)   \n",
      "3           4                   Waiting to Exhale (1995)   \n",
      "4           5         Father of the Bride Part II (1995)   \n",
      "...       ...                                        ...   \n",
      "9737     9738  Black Butler: Book of the Atlantic (2017)   \n",
      "9738     9739               No Game No Life: Zero (2017)   \n",
      "9739     9740                               Flint (2017)   \n",
      "9740     9741        Bungo Stray Dogs: Dead Apple (2018)   \n",
      "9741     9742        Andrew Dice Clay: Dice Rules (1991)   \n",
      "\n",
      "                                           genres  \n",
      "0     Adventure|Animation|Children|Comedy|Fantasy  \n",
      "1                      Adventure|Children|Fantasy  \n",
      "2                                  Comedy|Romance  \n",
      "3                            Comedy|Drama|Romance  \n",
      "4                                          Comedy  \n",
      "...                                           ...  \n",
      "9737              Action|Animation|Comedy|Fantasy  \n",
      "9738                     Animation|Comedy|Fantasy  \n",
      "9739                                        Drama  \n",
      "9740                             Action|Animation  \n",
      "9741                                       Comedy  \n",
      "\n",
      "[9742 rows x 3 columns]\n"
     ]
    }
   ],
   "source": [
    "print(movies)"
   ]
  },
  {
   "cell_type": "code",
   "execution_count": 249,
   "id": "61d29644-0ee7-4665-bfad-ce7c378b1751",
   "metadata": {
    "scrolled": true
   },
   "outputs": [
    {
     "name": "stdout",
     "output_type": "stream",
     "text": [
      "<class 'pandas.core.frame.DataFrame'>\n",
      "RangeIndex: 100836 entries, 0 to 100835\n",
      "Data columns (total 4 columns):\n",
      " #   Column     Non-Null Count   Dtype         \n",
      "---  ------     --------------   -----         \n",
      " 0   userId     100836 non-null  int64         \n",
      " 1   movieId    100836 non-null  int64         \n",
      " 2   rating     100836 non-null  int64         \n",
      " 3   timestamp  100836 non-null  datetime64[ns]\n",
      "dtypes: datetime64[ns](1), int64(3)\n",
      "memory usage: 3.1 MB\n",
      "None\n"
     ]
    }
   ],
   "source": [
    "print(ratings.info())"
   ]
  },
  {
   "cell_type": "code",
   "execution_count": 250,
   "id": "c38050fc-20b1-42e4-ba67-ba918e2c3bef",
   "metadata": {},
   "outputs": [
    {
     "name": "stdout",
     "output_type": "stream",
     "text": [
      "<class 'pandas.core.frame.DataFrame'>\n",
      "RangeIndex: 9742 entries, 0 to 9741\n",
      "Data columns (total 3 columns):\n",
      " #   Column   Non-Null Count  Dtype \n",
      "---  ------   --------------  ----- \n",
      " 0   movieId  9742 non-null   int64 \n",
      " 1   title    9742 non-null   object\n",
      " 2   genres   9742 non-null   object\n",
      "dtypes: int64(1), object(2)\n",
      "memory usage: 228.5+ KB\n",
      "None\n"
     ]
    }
   ],
   "source": [
    "print(movies.info())"
   ]
  },
  {
   "cell_type": "code",
   "execution_count": 251,
   "id": "ac469dd6-cec8-474a-a09e-e0ff45a28133",
   "metadata": {},
   "outputs": [],
   "source": [
    "#finding average rating per person and ratings per movie"
   ]
  },
  {
   "cell_type": "code",
   "execution_count": 252,
   "id": "5d7db7e8-2a7c-4ae6-81fe-5261c39cbe8f",
   "metadata": {},
   "outputs": [],
   "source": [
    "no_movies=len(movies)"
   ]
  },
  {
   "cell_type": "code",
   "execution_count": 253,
   "id": "7877489e-105f-4f51-b09a-67f80ddff1c1",
   "metadata": {},
   "outputs": [],
   "source": [
    "no_users=len(ratings['userId'].unique())\n",
    "no_ratings=len(ratings)\n",
    "avgratecount_per_movie=round(no_ratings/no_movies,2)\n",
    "avgratecount_per_user=round(no_ratings/no_users,2)\n"
   ]
  },
  {
   "cell_type": "code",
   "execution_count": 254,
   "id": "cd0b0b6a-79ce-4134-a4ce-a6fae6f4cecb",
   "metadata": {},
   "outputs": [
    {
     "name": "stdout",
     "output_type": "stream",
     "text": [
      "Total no. of ratings : 100836\n",
      "Total no. of movies : 9742\n",
      "Total no. of users : 999\n",
      "Average no. of ratings for a movie : 10.35\n",
      "Average no. of ratings by a user : 100.94\n"
     ]
    }
   ],
   "source": [
    "print('Total no. of ratings :', no_ratings)\n",
    "print('Total no. of movies :', no_movies)\n",
    "print('Total no. of users :', no_users)\n",
    "print('Average no. of ratings for a movie :',avgratecount_per_movie)\n",
    "print('Average no. of ratings by a user :',avgratecount_per_user)\n"
   ]
  },
  {
   "cell_type": "code",
   "execution_count": 255,
   "id": "4399e552-3180-4898-b1b9-c79d06668380",
   "metadata": {},
   "outputs": [],
   "source": [
    "#no of ratings per movie and avg rating of movie"
   ]
  },
  {
   "cell_type": "code",
   "execution_count": 256,
   "id": "6a407e3a-23a1-4e79-9577-3657de8b4e75",
   "metadata": {
    "scrolled": true
   },
   "outputs": [
    {
     "name": "stdout",
     "output_type": "stream",
     "text": [
      "      movieId  no_of_ratings  avg_rating  \\\n",
      "0           1             13    2.230769   \n",
      "1           2              6    3.000000   \n",
      "2           3              7    2.571429   \n",
      "3           4             12    3.916667   \n",
      "4           5             11    2.909091   \n",
      "...       ...            ...         ...   \n",
      "9737     9738              7    3.428571   \n",
      "9738     9739              7    3.428571   \n",
      "9739     9740              7    2.571429   \n",
      "9740     9741              9    2.666667   \n",
      "9741     9742             11    2.272727   \n",
      "\n",
      "                                          title  \\\n",
      "0                              Toy Story (1995)   \n",
      "1                                Jumanji (1995)   \n",
      "2                       Grumpier Old Men (1995)   \n",
      "3                      Waiting to Exhale (1995)   \n",
      "4            Father of the Bride Part II (1995)   \n",
      "...                                         ...   \n",
      "9737  Black Butler: Book of the Atlantic (2017)   \n",
      "9738               No Game No Life: Zero (2017)   \n",
      "9739                               Flint (2017)   \n",
      "9740        Bungo Stray Dogs: Dead Apple (2018)   \n",
      "9741        Andrew Dice Clay: Dice Rules (1991)   \n",
      "\n",
      "                                           genres  \n",
      "0     Adventure|Animation|Children|Comedy|Fantasy  \n",
      "1                      Adventure|Children|Fantasy  \n",
      "2                                  Comedy|Romance  \n",
      "3                            Comedy|Drama|Romance  \n",
      "4                                          Comedy  \n",
      "...                                           ...  \n",
      "9737              Action|Animation|Comedy|Fantasy  \n",
      "9738                     Animation|Comedy|Fantasy  \n",
      "9739                                        Drama  \n",
      "9740                             Action|Animation  \n",
      "9741                                       Comedy  \n",
      "\n",
      "[9742 rows x 5 columns]\n"
     ]
    }
   ],
   "source": [
    "movie_rating=ratings.groupby('movieId').agg(no_of_ratings=('rating','count'),avg_rating=('rating','mean')).reset_index()\n",
    "movie_rating = pd.merge(movie_rating,movies[['movieId', 'title','genres']], on='movieId', how='left')\n",
    "print(movie_rating)"
   ]
  },
  {
   "cell_type": "code",
   "execution_count": 257,
   "id": "860fff17-1abb-4482-af99-3d6db4956590",
   "metadata": {},
   "outputs": [],
   "source": [
    "# five movies each with most and least avg_rating(without considering the count of reviews and with count>=5)"
   ]
  },
  {
   "cell_type": "code",
   "execution_count": 258,
   "id": "1a66fc6b-8ec3-4406-96bf-acdd55c8d0a5",
   "metadata": {},
   "outputs": [
    {
     "name": "stdout",
     "output_type": "stream",
     "text": [
      "      movieId  no_of_ratings  avg_rating  \\\n",
      "7830     7831              5    4.800000   \n",
      "8681     8682              4    4.750000   \n",
      "8965     8966              5    4.600000   \n",
      "5001     5002              7    4.571429   \n",
      "117       118              4    4.500000   \n",
      "\n",
      "                                       title                            genres  \n",
      "7830                      Ro.Go.Pa.G. (1963)                      Comedy|Drama  \n",
      "8681               Mad Max: Fury Road (2015)  Action|Adventure|Sci-Fi|Thriller  \n",
      "8965                         Mortuary (1983)                            Horror  \n",
      "5001  Postman Always Rings Twice, The (1946)    Crime|Drama|Film-Noir|Thriller  \n",
      "117            Brothers McMullen, The (1995)                            Comedy  \n",
      "      movieId  no_of_ratings  avg_rating                              title  \\\n",
      "1284     1285              3        1.00           Good Will Hunting (1997)   \n",
      "2199     2200              2        1.00   Drunken Master (Jui kuen) (1978)   \n",
      "5518     5519              4        1.00  Silent Night, Deadly Night (1984)   \n",
      "2980     2981              4        1.25                      Malèna (2000)   \n",
      "9398     9399              4        1.25                 Amanda Knox (2016)   \n",
      "\n",
      "                 genres  \n",
      "1284      Drama|Romance  \n",
      "2199      Action|Comedy  \n",
      "5518    Horror|Thriller  \n",
      "2980  Drama|Romance|War  \n",
      "9398        Documentary  \n"
     ]
    }
   ],
   "source": [
    "print(movie_rating.nlargest(5,'avg_rating'))\n",
    "print(movie_rating.nsmallest(5,'avg_rating'))"
   ]
  },
  {
   "cell_type": "code",
   "execution_count": 259,
   "id": "b39579d8-3b39-4d8c-ad5b-2dd5105cb72f",
   "metadata": {},
   "outputs": [
    {
     "name": "stdout",
     "output_type": "stream",
     "text": [
      "      movieId  no_of_ratings  avg_rating  \\\n",
      "7830     7831              5    4.800000   \n",
      "8965     8966              5    4.600000   \n",
      "5001     5002              7    4.571429   \n",
      "7477     7478              6    4.500000   \n",
      "3759     3760              9    4.444444   \n",
      "\n",
      "                                       title                          genres  \n",
      "7830                      Ro.Go.Pa.G. (1963)                    Comedy|Drama  \n",
      "8965                         Mortuary (1983)                          Horror  \n",
      "5001  Postman Always Rings Twice, The (1946)  Crime|Drama|Film-Noir|Thriller  \n",
      "7477             Love and Other Drugs (2010)            Comedy|Drama|Romance  \n",
      "3759                  Shogun Assassin (1980)                Action|Adventure  \n",
      "      movieId  no_of_ratings  avg_rating  \\\n",
      "2087     2088              5    1.400000   \n",
      "9376     9377              7    1.428571   \n",
      "3884     3885              6    1.500000   \n",
      "6509     6510             10    1.500000   \n",
      "9656     9657              9    1.555556   \n",
      "\n",
      "                                       title                      genres  \n",
      "2087            Better Than Chocolate (1999)              Comedy|Romance  \n",
      "9376  Kizumonogatari Part 1: Tekketsu (2016)    Action|Animation|Mystery  \n",
      "3884                        Like Mike (2002)     Children|Comedy|Fantasy  \n",
      "6509                      Rescue Dawn (2006)  Action|Adventure|Drama|War  \n",
      "9656             The Greatest Showman (2017)                       Drama  \n"
     ]
    }
   ],
   "source": [
    "print(movie_rating[movie_rating['no_of_ratings'] >= 5].nlargest(5, 'avg_rating'))\n",
    "print(movie_rating[movie_rating['no_of_ratings'] >= 5].nsmallest(5, 'avg_rating'))\n"
   ]
  },
  {
   "cell_type": "code",
   "execution_count": 260,
   "id": "44970dcc-076e-46b2-97e8-1e6dbb94de77",
   "metadata": {},
   "outputs": [
    {
     "name": "stdout",
     "output_type": "stream",
     "text": [
      "      movieId  no_of_ratings  avg_rating  \\\n",
      "7830     7831              5    4.800000   \n",
      "8681     8682              4    4.750000   \n",
      "8965     8966              5    4.600000   \n",
      "5001     5002              7    4.571429   \n",
      "9269     9270              2    4.500000   \n",
      "...       ...            ...         ...   \n",
      "2980     2981              4    1.250000   \n",
      "9398     9399              4    1.250000   \n",
      "5518     5519              4    1.000000   \n",
      "2199     2200              2    1.000000   \n",
      "1284     1285              3    1.000000   \n",
      "\n",
      "                                       title                            genres  \n",
      "7830                      Ro.Go.Pa.G. (1963)                      Comedy|Drama  \n",
      "8681               Mad Max: Fury Road (2015)  Action|Adventure|Sci-Fi|Thriller  \n",
      "8965                         Mortuary (1983)                            Horror  \n",
      "5001  Postman Always Rings Twice, The (1946)    Crime|Drama|Film-Noir|Thriller  \n",
      "9269        The Man Who Knew Infinity (2016)                             Drama  \n",
      "...                                      ...                               ...  \n",
      "2980                           Malèna (2000)                 Drama|Romance|War  \n",
      "9398                      Amanda Knox (2016)                       Documentary  \n",
      "5518       Silent Night, Deadly Night (1984)                   Horror|Thriller  \n",
      "2199        Drunken Master (Jui kuen) (1978)                     Action|Comedy  \n",
      "1284                Good Will Hunting (1997)                     Drama|Romance  \n",
      "\n",
      "[9742 rows x 5 columns]\n"
     ]
    }
   ],
   "source": [
    "sorted_rating=movie_rating.sort_values(by='avg_rating',ascending=False)\n",
    "print(sorted_rating)"
   ]
  },
  {
   "cell_type": "code",
   "execution_count": 267,
   "id": "ca20d785-4ae3-4c84-8d75-fee8d5641c4b",
   "metadata": {},
   "outputs": [],
   "source": [
    "from scipy.sparse import csr_matrix\n",
    "from sklearn.neighbors import NearestNeighbors\n",
    "\n",
    "\n",
    "def create_matrix(df):\n",
    "    unique_users = np.unique(df['userId'])\n",
    "    unique_movies = np.unique(df['movieId'])\n",
    "\n",
    "    N = len(unique_users)\n",
    "    M = len(unique_movies)\n",
    "\n",
    "    user_mapper = {uid: idx for idx, uid in enumerate(unique_users)}\n",
    "    movie_mapper = {mid: idx for idx, mid in enumerate(unique_movies)}\n",
    "\n",
    "    user_inv_mapper = {idx: uid for uid, idx in user_mapper.items()}\n",
    "    movie_inv_mapper = {idx: mid for mid, idx in movie_mapper.items()}\n",
    "\n",
    "    user_indices = df['userId'].map(user_mapper).values\n",
    "    movie_indices = df['movieId'].map(movie_mapper).values\n",
    "\n",
    "    X = csr_matrix((df['rating'].values, (movie_indices, user_indices)), shape=(M, N))\n",
    "\n",
    "    return X, user_mapper, movie_mapper, user_inv_mapper, movie_inv_mapper\n",
    "\n",
    "X, user_mapper, movie_mapper, user_inv_mapper, movie_inv_mapper = create_matrix(ratings)\n",
    "\n",
    "def find_similar_movies(movie_id, X, k):\n",
    "    if movie_id not in movie_mapper:\n",
    "        print(f\"Movie ID {movie_id} not found!\")\n",
    "        return []\n",
    "\n",
    "    movie_index = movie_mapper[movie_id]\n",
    "    movie_vector = X[movie_index].reshape(1, -1)\n",
    "\n",
    "    model = NearestNeighbors(n_neighbors=k + 1, metric='cosine', algorithm='brute')\n",
    "    model.fit(X)\n",
    "\n",
    "    distances, indices = model.kneighbors(movie_vector, return_distance=True)\n",
    "\n",
    "    similar_indices = indices.flatten()[1:]\n",
    "    similar_ids = [movie_inv_mapper[i] for i in similar_indices]\n",
    "    return similar_ids\n",
    "\n",
    "\n"
   ]
  },
  {
   "cell_type": "code",
   "execution_count": 268,
   "id": "2fe14a72-1576-4ca5-bfe1-8550599592e1",
   "metadata": {},
   "outputs": [],
   "source": [
    "def recommend_movies_for_user(user_id, X, user_mapper, movie_mapper, movie_inv_mapper, k):\n",
    "    df1 = ratings[ratings['userId'] == user_id]\n",
    "\n",
    "    movie_id = df1[df1['rating'] == max(df1['rating'])]['movieId'].iloc[0]\n",
    "\n",
    "    movie_titles = dict(zip(movies['movieId'], movies['title']))\n",
    "\n",
    "    similar_ids = find_similar_movies(movie_id, X, k)\n",
    "\n",
    "  \n",
    "    for i in similar_ids:\n",
    "        if i in movie_titles:\n",
    "            print(movie_titles[i])"
   ]
  },
  {
   "cell_type": "code",
   "execution_count": 269,
   "id": "9225300d-e259-4c6a-bf04-e4f72e126d01",
   "metadata": {},
   "outputs": [
    {
     "name": "stdout",
     "output_type": "stream",
     "text": [
      "Wrong Arm of the Law, The (1963)\n",
      "The African Doctor (2016)\n",
      "Rage: Carrie 2, The (1999)\n"
     ]
    }
   ],
   "source": [
    "user_id = 104\n",
    "recommend_movies_for_user(user_id, X, user_mapper, movie_mapper, movie_inv_mapper, k=3)"
   ]
  },
  {
   "cell_type": "code",
   "execution_count": null,
   "id": "1dac12b4-e62c-4c42-b4c1-2f1b2c473b78",
   "metadata": {},
   "outputs": [],
   "source": []
  }
 ],
 "metadata": {
  "kernelspec": {
   "display_name": "Python (Custom Env)",
   "language": "python",
   "name": "customenv"
  },
  "language_info": {
   "codemirror_mode": {
    "name": "ipython",
    "version": 3
   },
   "file_extension": ".py",
   "mimetype": "text/x-python",
   "name": "python",
   "nbconvert_exporter": "python",
   "pygments_lexer": "ipython3",
   "version": "3.13.5"
  }
 },
 "nbformat": 4,
 "nbformat_minor": 5
}
